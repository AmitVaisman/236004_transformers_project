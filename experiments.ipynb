{
 "cells": [
  {
   "cell_type": "code",
   "execution_count": 1,
   "id": "c13001dc-9544-4347-a113-e4150618e7d5",
   "metadata": {},
   "outputs": [],
   "source": [
    "from subnet_train import main"
   ]
  },
  {
   "cell_type": "code",
   "execution_count": 2,
   "id": "b044f832-7e88-46f8-99b1-1613ebe1a698",
   "metadata": {},
   "outputs": [
    {
     "name": "stderr",
     "output_type": "stream",
     "text": [
      "usage: ipykernel_launcher.py [-h] [--exper_name EXPER_NAME]\n",
      "                             [--project_name PROJECT_NAME] [--kg_type KG_TYPE]\n",
      "                             [--targetkg_name TARGETKG_NAME]\n",
      "                             [--is_csqa IS_CSQA]\n",
      "                             [--test_full_model TEST_FULL_MODEL] [--lm LM]\n",
      "                             [--use_dropout USE_DROPOUT]\n",
      "                             [--initial_mask_p INITIAL_MASK_P]\n",
      "                             [--log_dir LOG_DIR] [--nfs_dir NFS_DIR]\n",
      "                             [--date DATE] [--seed SEED] [--lr LR]\n",
      "                             [--train_batch_size TRAIN_BATCH_SIZE]\n",
      "                             [--eval_batch_size EVAL_BATCH_SIZE]\n",
      "                             [--train_epoch TRAIN_EPOCH]\n",
      "                             [--lr_warmup_frac LR_WARMUP_FRAC]\n",
      "                             [--log_step LOG_STEP]\n",
      "                             [--save_checkpoint_every SAVE_CHECKPOINT_EVERY]\n",
      "                             [--verbose VERBOSE]\n",
      "                             [--lambda_reg_init LAMBDA_REG_INIT]\n",
      "                             [--lambda_reg_final LAMBDA_REG_FINAL]\n",
      "                             [--mask_lr MASK_LR] [--params PARAMS]\n",
      "                             [--top_k_layers TOP_K_LAYERS]\n",
      "                             [--top_limit TOP_LIMIT]\n",
      "                             [--bottom_limit BOTTOM_LIMIT]\n",
      "                             [--linear_types_to_mask LINEAR_TYPES_TO_MASK]\n",
      "                             [--module_types_to_mask MODULE_TYPES_TO_MASK]\n",
      "                             [--include_controllm_loss INCLUDE_CONTROLLM_LOSS]\n",
      "                             [--controllm_train_batch_size CONTROLLM_TRAIN_BATCH_SIZE]\n",
      "                             [--controllm_eval_batch_size CONTROLLM_EVAL_BATCH_SIZE]\n",
      "                             [--include_controlkg_loss INCLUDE_CONTROLKG_LOSS]\n",
      "                             [--include_targetkg_suppression_loss INCLUDE_TARGETKG_SUPPRESSION_LOSS]\n",
      "                             [--exclude_targetkg_expression_loss EXCLUDE_TARGETKG_EXPRESSION_LOSS]\n",
      "                             [--lambda_targetkg_expression LAMBDA_TARGETKG_EXPRESSION]\n",
      "                             [--lambda_inverse_mask_controllm LAMBDA_INVERSE_MASK_CONTROLLM]\n",
      "                             [--lambda_inverse_mask_controlkg LAMBDA_INVERSE_MASK_CONTROLKG]\n",
      "                             [--lambda_inverse_mask_targetkg LAMBDA_INVERSE_MASK_TARGETKG]\n",
      "                             [--lambda_scheduler LAMBDA_SCHEDULER]\n",
      "                             [--subnet_config_file SUBNET_CONFIG_FILE]\n",
      "ipykernel_launcher.py: error: unrecognized arguments: -f /home/amit.vaisman/.local/share/jupyter/runtime/kernel-469226bc-a1f1-4e66-8870-6f81af916ab8.json\n"
     ]
    },
    {
     "ename": "SystemExit",
     "evalue": "2",
     "output_type": "error",
     "traceback": [
      "An exception has occurred, use %tb to see the full traceback.\n",
      "\u001b[0;31mSystemExit\u001b[0m\u001b[0;31m:\u001b[0m 2\n"
     ]
    },
    {
     "name": "stderr",
     "output_type": "stream",
     "text": [
      "/home/amit.vaisman/miniconda3/envs/236004_transformers_project/lib/python3.10/site-packages/IPython/core/interactiveshell.py:3587: UserWarning: To exit: use 'exit', 'quit', or Ctrl-D.\n",
      "  warn(\"To exit: use 'exit', 'quit', or Ctrl-D.\", stacklevel=1)\n"
     ]
    }
   ],
   "source": [
    "main()"
   ]
  },
  {
   "cell_type": "code",
   "execution_count": null,
   "id": "67ac9272-b0c3-448a-9202-044e5af8e43d",
   "metadata": {},
   "outputs": [],
   "source": []
  }
 ],
 "metadata": {
  "kernelspec": {
   "display_name": "Python 3 (ipykernel)",
   "language": "python",
   "name": "python3"
  },
  "language_info": {
   "codemirror_mode": {
    "name": "ipython",
    "version": 3
   },
   "file_extension": ".py",
   "mimetype": "text/x-python",
   "name": "python",
   "nbconvert_exporter": "python",
   "pygments_lexer": "ipython3",
   "version": "3.10.18"
  }
 },
 "nbformat": 4,
 "nbformat_minor": 5
}
